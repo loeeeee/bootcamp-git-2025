{
 "cells": [
  {
   "cell_type": "markdown",
   "id": "acd11063-fb94-4d61-be68-629bdeb6d256",
   "metadata": {},
   "source": [
    "# 1. List repetition"
   ]
  },
  {
   "cell_type": "code",
   "execution_count": 4,
   "id": "1733c003-05fe-4c11-bc80-1ec8dab8b3b1",
   "metadata": {},
   "outputs": [
    {
     "name": "stdout",
     "output_type": "stream",
     "text": [
      "[1, 2, 3, 1, 2, 3]\n"
     ]
    }
   ],
   "source": [
    "a = [1,2,3]\n",
    "b = a*2\n",
    "print(b)"
   ]
  },
  {
   "cell_type": "markdown",
   "id": "6abd19aa-ee2f-4d1e-b735-7ecc923862e6",
   "metadata": {},
   "source": [
    "### How does the list b look like when created based list a?\n",
    "### Can you also print list a and compare it against list b?\n",
    "\n",
    "## EDIT HERE "
   ]
  },
  {
   "cell_type": "markdown",
   "id": "91c4e69f-9f87-45b1-a45d-4498ac07638b",
   "metadata": {},
   "source": [
    "# 2. Compare equality vs identity\n",
    "\n",
    "After a=[1,2,3]; b=a*2, what are the results of `b==a*2` and `b is a`?"
   ]
  },
  {
   "cell_type": "code",
   "execution_count": 5,
   "id": "e8698170-eec2-44e1-bbd2-6da3e97d1245",
   "metadata": {},
   "outputs": [
    {
     "data": {
      "text/plain": [
       "True"
      ]
     },
     "execution_count": 5,
     "metadata": {},
     "output_type": "execute_result"
    }
   ],
   "source": [
    "b==a*2"
   ]
  },
  {
   "cell_type": "code",
   "execution_count": 6,
   "id": "f0e3e3f1-829f-4b5f-9902-f18146dae0b6",
   "metadata": {},
   "outputs": [
    {
     "data": {
      "text/plain": [
       "False"
      ]
     },
     "execution_count": 6,
     "metadata": {},
     "output_type": "execute_result"
    }
   ],
   "source": [
    "b is a"
   ]
  },
  {
   "cell_type": "markdown",
   "id": "a934ee27-c200-47e3-ac0b-569df52c9638",
   "metadata": {},
   "source": [
    "### `==` checks the equality, while `is` checks object identity (whether these two lists are the same project)\n",
    "### `id` gives the identity of each object. Same project should have same identity. "
   ]
  },
  {
   "cell_type": "code",
   "execution_count": 7,
   "id": "1b6a81b3-b321-4532-a746-bccd3112af86",
   "metadata": {},
   "outputs": [
    {
     "data": {
      "text/plain": [
       "4382246592"
      ]
     },
     "execution_count": 7,
     "metadata": {},
     "output_type": "execute_result"
    }
   ],
   "source": [
    "id(b)"
   ]
  },
  {
   "cell_type": "code",
   "execution_count": 8,
   "id": "be51ae4a-c2a2-44db-b4f4-11ac259f7c7f",
   "metadata": {},
   "outputs": [
    {
     "data": {
      "text/plain": [
       "4388031744"
      ]
     },
     "execution_count": 8,
     "metadata": {},
     "output_type": "execute_result"
    }
   ],
   "source": [
    "id(a*2)"
   ]
  },
  {
   "cell_type": "markdown",
   "id": "a902d5ad-f67f-4b51-816a-b70492c8f6bf",
   "metadata": {},
   "source": [
    "### Can you try the following and tell me whether a and b are the same object?"
   ]
  },
  {
   "cell_type": "code",
   "execution_count": 9,
   "id": "0571dc76-2a10-493d-9b4b-731d9f99619d",
   "metadata": {},
   "outputs": [
    {
     "data": {
      "text/plain": [
       "(4388096896, 4388096896)"
      ]
     },
     "execution_count": 9,
     "metadata": {},
     "output_type": "execute_result"
    }
   ],
   "source": [
    "a = [1,2,3]\n",
    "b = a\n",
    "id(a), id(b)"
   ]
  },
  {
   "cell_type": "markdown",
   "id": "689a4098-4e35-46df-9618-e750a7f6cb05",
   "metadata": {},
   "source": [
    "### EDIT HERE"
   ]
  },
  {
   "cell_type": "code",
   "execution_count": 10,
   "id": "b9766aee-f78f-4dea-917a-20bef932941b",
   "metadata": {},
   "outputs": [
    {
     "data": {
      "text/plain": [
       "True"
      ]
     },
     "execution_count": 10,
     "metadata": {},
     "output_type": "execute_result"
    }
   ],
   "source": [
    "b is a"
   ]
  }
 ],
 "metadata": {
  "kernelspec": {
   "display_name": "base",
   "language": "python",
   "name": "python3"
  },
  "language_info": {
   "codemirror_mode": {
    "name": "ipython",
    "version": 3
   },
   "file_extension": ".py",
   "mimetype": "text/x-python",
   "name": "python",
   "nbconvert_exporter": "python",
   "pygments_lexer": "ipython3",
   "version": "3.13.5"
  }
 },
 "nbformat": 4,
 "nbformat_minor": 5
}
